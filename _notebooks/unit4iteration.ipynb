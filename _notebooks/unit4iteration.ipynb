{
 "cells": [
  {
   "cell_type": "markdown",
   "metadata": {},
   "source": [
    "# Unit 4: Iteration\n",
    "\n",
    "- title: Using Objects\n",
    "- toc: true\n",
    "- categories: [college board, units]"
   ]
  },
  {
   "cell_type": "markdown",
   "metadata": {},
   "source": [
    "## Iteration in Java\n",
    "\n",
    "Iteration may be one of the most crucial features for any programming language, since they allow computers to do what they do best: do copious amounts of menial tasks quickly and efficiently.\n",
    "\n",
    "Of course, Java can also perform iteration using numerous different structures. Today we'll be going over some of them."
   ]
  },
  {
   "cell_type": "markdown",
   "metadata": {},
   "source": [
    "## While Loops\n",
    "\n",
    "- Repeats lines of code until a certain condition evaluates to false\n",
    "\n",
    "While loops consist of mainly the boolean expression and the brackets which store the looping code inside.\n",
    "\n",
    "The boolean expression is checked before the loop is started and every time the loop ends and is about to start anew. \n",
    "\n",
    "TODO: Explain while loops\n",
    "\n",
    "- Infinite while loops\n",
    "- Conditions (Booleans)"
   ]
  },
  {
   "cell_type": "code",
   "execution_count": null,
   "metadata": {},
   "outputs": [],
   "source": [
    "public class WhileLoops {\n",
    "\n",
    "    public static void main(String[] args) {\n",
    "\n",
    "    }\n",
    "}\n",
    "\n",
    "WhileLoops.main(null);"
   ]
  },
  {
   "cell_type": "markdown",
   "metadata": {},
   "source": [
    "### Hacks\n",
    "\n",
    "TODO: Basic while loop hacks"
   ]
  },
  {
   "cell_type": "markdown",
   "metadata": {},
   "source": [
    "## For Loops\n",
    "\n",
    "TODO: Explain for loops\n",
    "\n",
    "- Explain initialization, boolean expression, and incrementation\n",
    "- Differences between while and for (run times)\n",
    "- Common mistakes (0 or 1, < or <=, etc.)\n",
    "- subString() "
   ]
  },
  {
   "cell_type": "code",
   "execution_count": null,
   "metadata": {},
   "outputs": [],
   "source": [
    "public class ForLoops {\n",
    "\n",
    "    public static void main(String[] args) {\n",
    "\n",
    "    }\n",
    "}\n",
    "\n",
    "ForLoops.main(null);"
   ]
  },
  {
   "cell_type": "markdown",
   "metadata": {},
   "source": [
    "### Hacks\n",
    "\n",
    "TODO: Basic for loop hacks"
   ]
  },
  {
   "cell_type": "markdown",
   "metadata": {},
   "source": [
    "## Nested Iteration\n",
    "\n",
    "TODO: Explain nested iteration\n",
    "\n",
    "- Explain 2D arrays\n",
    "- Informal code analysis"
   ]
  },
  {
   "cell_type": "code",
   "execution_count": null,
   "metadata": {},
   "outputs": [],
   "source": [
    "public class NestedIteration {\n",
    "\n",
    "    public static void main(String[] args) {\n",
    "\n",
    "    }\n",
    "}\n",
    "\n",
    "NestedIteration.main(null);"
   ]
  },
  {
   "cell_type": "markdown",
   "metadata": {},
   "source": [
    "## For Each Loops\n",
    "\n",
    "TODO: Explain for each loops (these are extra)"
   ]
  },
  {
   "cell_type": "code",
   "execution_count": null,
   "metadata": {},
   "outputs": [],
   "source": [
    "public class ForEachLoops {\n",
    "\n",
    "    public static void main(String[] args) {\n",
    "\n",
    "        \n",
    "\n",
    "    }\n",
    "}\n",
    "\n",
    "ForEachLoops.main(null);"
   ]
  },
  {
   "cell_type": "markdown",
   "metadata": {},
   "source": [
    "## Stream\n",
    "\n",
    "TODO: Explain Stream (these are extra)"
   ]
  },
  {
   "cell_type": "code",
   "execution_count": null,
   "metadata": {},
   "outputs": [],
   "source": [
    "public class Stream {\n",
    "\n",
    "    public static void main(String[] args) {\n",
    "        \n",
    "    }\n",
    "}\n",
    "\n",
    "Stream.main(null);"
   ]
  },
  {
   "cell_type": "markdown",
   "metadata": {},
   "source": [
    "## Final Hacks\n",
    "\n",
    "TODO: Caesar Cipher Homework"
   ]
  }
 ],
 "metadata": {
  "kernelspec": {
   "display_name": "Java",
   "language": "java",
   "name": "java"
  },
  "language_info": {
   "codemirror_mode": "java",
   "file_extension": ".jshell",
   "mimetype": "text/x-java-source",
   "name": "java",
   "pygments_lexer": "java",
   "version": "17.0.4+8"
  },
  "orig_nbformat": 4
 },
 "nbformat": 4,
 "nbformat_minor": 2
}